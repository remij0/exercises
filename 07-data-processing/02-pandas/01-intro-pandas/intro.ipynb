{
 "cells": [
  {
   "cell_type": "markdown",
   "metadata": {},
   "source": [
    "# Pandas"
   ]
  },
  {
   "cell_type": "markdown",
   "metadata": {},
   "source": [
    "Pandas is a fundamental library in Python for data manipulation and analysis. It provides high-performance, easy-to-use data structures and data analysis tools. With Pandas, you can efficiently handle structured data, perform operations like filtering, grouping, and aggregation, and visualize your data effectively.\n",
    "\n",
    "Before utilizing Pandas in your Python projects, it's essential to ensure you have it installed in your Python environment. You can install Pandas using pip, Python's package manager, with a simple command:\n",
    "\n",
    "**pip install pandas**"
   ]
  },
  {
   "cell_type": "markdown",
   "metadata": {},
   "source": [
    "Once installed, you can import Pandas into your Python scripts or interactive sessions using the conventional alias 'pd':"
   ]
  },
  {
   "cell_type": "code",
   "execution_count": 10,
   "metadata": {},
   "outputs": [],
   "source": [
    "import pandas as pd"
   ]
  },
  {
   "cell_type": "markdown",
   "metadata": {},
   "source": [
    "With Pandas imported, you gain access to powerful data structures, such as Series and DataFrame. These structures allow you to represent and work with labeled and relational data seamlessly.\n",
    "\n",
    "Here's a breakdown of the code snippet demonstrating the usage of Pandas Series:"
   ]
  },
  {
   "cell_type": "code",
   "execution_count": 11,
   "metadata": {},
   "outputs": [],
   "source": [
    "# Creating a Pandas Series\n",
    "my_series = pd.Series({'London':10, 'Tripoli':100, 'Cairo':10})"
   ]
  },
  {
   "cell_type": "markdown",
   "metadata": {},
   "source": [
    "In this snippet, we create a Pandas Series named 'my_series' using the pd.Series() constructor. This Series contains data with labeled indices, resembling a dictionary in Python. Each index label corresponds to a value in the Series."
   ]
  },
  {
   "cell_type": "code",
   "execution_count": 12,
   "metadata": {},
   "outputs": [
    {
     "data": {
      "text/plain": [
       "London      10\n",
       "Tripoli    100\n",
       "Cairo       10\n",
       "dtype: int64"
      ]
     },
     "execution_count": 12,
     "metadata": {},
     "output_type": "execute_result"
    }
   ],
   "source": [
    "# Displaying the Series\n",
    "my_series"
   ]
  },
  {
   "cell_type": "markdown",
   "metadata": {},
   "source": [
    "By simply typing the variable name 'my_series', we can display the contents of the Series. This quick visualization helps us understand the structure and values stored within 'my_series'."
   ]
  },
  {
   "cell_type": "code",
   "execution_count": 13,
   "metadata": {},
   "outputs": [
    {
     "data": {
      "text/plain": [
       "100"
      ]
     },
     "execution_count": 13,
     "metadata": {},
     "output_type": "execute_result"
    }
   ],
   "source": [
    "# Accessing a specific element in the Series\n",
    "my_series['Tripoli']"
   ]
  },
  {
   "cell_type": "markdown",
   "metadata": {},
   "source": [
    "With Pandas Series, accessing specific elements is straightforward. We use the index label ('Tripoli' in this case) within square brackets to retrieve the corresponding value from the Series."
   ]
  },
  {
   "cell_type": "code",
   "execution_count": 14,
   "metadata": {},
   "outputs": [
    {
     "data": {
      "text/plain": [
       "Tripoli    100\n",
       "dtype: int64"
      ]
     },
     "execution_count": 14,
     "metadata": {},
     "output_type": "execute_result"
    }
   ],
   "source": [
    "# Filtering elements based on a condition\n",
    "my_series[my_series > 10]"
   ]
  },
  {
   "cell_type": "markdown",
   "metadata": {},
   "source": [
    "Pandas enables us to filter data based on conditions easily. Here, we filter 'my_series' to include only those elements whose values are greater than 10. This operation results in a new Series containing the filtered data subset."
   ]
  }
 ],
 "metadata": {
  "kernelspec": {
   "display_name": ".venv",
   "language": "python",
   "name": "python3"
  },
  "language_info": {
   "codemirror_mode": {
    "name": "ipython",
    "version": 3
   },
   "file_extension": ".py",
   "mimetype": "text/x-python",
   "name": "python",
   "nbconvert_exporter": "python",
   "pygments_lexer": "ipython3",
   "version": "3.11.5"
  },
  "orig_nbformat": 4
 },
 "nbformat": 4,
 "nbformat_minor": 2
}
