{
 "cells": [
  {
   "cell_type": "code",
   "execution_count": 1,
   "metadata": {},
   "outputs": [],
   "source": [
    "import pandas as pd\n",
    "\n",
    "# Sample data\n",
    "data = {\n",
    "    'Product_ID': [101, 102, 103, 104, 105],\n",
    "    'Product_Name': ['Laptop', 'Smartphone', 'Tablet', 'Headphones', 'Smartwatch'],\n",
    "    'Category': ['Electronics', 'Electronics', 'Electronics', 'Accessories', 'Electronics'],\n",
    "    'Price': [1200, 800, 400, 100, 300],\n",
    "    'Quantity_Sold': [50, 100, 80, 200, 120]\n",
    "}"
   ]
  },
  {
   "cell_type": "code",
   "execution_count": 2,
   "metadata": {},
   "outputs": [],
   "source": [
    "# Task 1: DataFrame Creation\n",
    "products = pd.DataFrame(data)\n",
    "\n",
    "# Displaying the DataFrame\n",
    "products"
   ]
  },
  {
   "cell_type": "code",
   "execution_count": 3,
   "metadata": {},
   "outputs": [
    {
     "name": "stdout",
     "output_type": "stream",
     "text": [
      "Indexing and Slicing:\n",
      "Using label-based indexing:\n",
      "    Name  Salary\n",
      "3  David   70000\n",
      "4   Emma   65000\n",
      "\n"
     ]
    }
   ],
   "source": [
    "# Task 2: Indexing and Slicing\n",
    "print(employees.loc[3:4, ['Name', 'Salary']])  # Using index labels for rows and column names"
   ]
  },
  {
   "cell_type": "code",
   "execution_count": 4,
   "metadata": {},
   "outputs": [
    {
     "name": "stdout",
     "output_type": "stream",
     "text": [
      "Using positional-based indexing:\n",
      "    Name  Salary\n",
      "3  David   70000\n",
      "4   Emma   65000\n",
      "\n"
     ]
    }
   ],
   "source": [
    "# Using positional-based indexing\n",
    "print(employees.iloc[3:5, [0, 3]])  # Using integer positions for rows and column positions"
   ]
  },
  {
   "cell_type": "code",
   "execution_count": 5,
   "metadata": {},
   "outputs": [
    {
     "name": "stdout",
     "output_type": "stream",
     "text": [
      "Boolean indexing:\n",
      "      Name  Age      City  Salary\n",
      "1      Bob   30  New York   75000\n",
      "2  Charlie   35     Paris   80000\n",
      "4     Emma   32    Sydney   65000\n"
     ]
    }
   ],
   "source": [
    "# Task 3: Boolean Indexing\n",
    "print(employees[employees['Age'] >= 30])  # Filtering data based on age"
   ]
  }
 ],
 "metadata": {
  "kernelspec": {
   "display_name": "Python 3",
   "language": "python",
   "name": "python3"
  },
  "language_info": {
   "codemirror_mode": {
    "name": "ipython",
    "version": 3
   },
   "file_extension": ".py",
   "mimetype": "text/x-python",
   "name": "python",
   "nbconvert_exporter": "python",
   "pygments_lexer": "ipython3",
   "version": "3.11.5"
  },
  "orig_nbformat": 4
 },
 "nbformat": 4,
 "nbformat_minor": 2
}
